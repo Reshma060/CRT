{
 "cells": [
  {
   "cell_type": "code",
   "execution_count": 8,
   "id": "8d6635ff-75be-4554-a40d-058ef42604a9",
   "metadata": {},
   "outputs": [
    {
     "name": "stdin",
     "output_type": "stream",
     "text": [
      "enter the elements: 5\n",
      "elements: 3 4 22 4 3\n"
     ]
    },
    {
     "name": "stdout",
     "output_type": "stream",
     "text": [
      "[3, 3, 4, 4, 22]\n",
      "22\n"
     ]
    }
   ],
   "source": [
    "#27/05/25\n",
    "#problem solving\n",
    "sum=0\n",
    "n=int(input(\"enter the elements:\"))\n",
    "arr=list(map(int,input(\"elements:\").split()))\n",
    "arr.sort()\n",
    "print(arr)\n",
    "p1,p2=arr[-1],arr[-2]\n",
    "avg=(p1+p2)//2\n",
    "for i in range(0,len(arr)):\n",
    "    if arr[i]<avg:\n",
    "        arr[i]=0\n",
    "    else:\n",
    "        sum+=arr[i]\n",
    "print(sum)"
   ]
  },
  {
   "cell_type": "code",
   "execution_count": 20,
   "id": "055a70f6-7024-4cd6-97a6-8d186e817096",
   "metadata": {},
   "outputs": [
    {
     "name": "stdin",
     "output_type": "stream",
     "text": [
      "no.of rats: 7\n",
      "no of units: 2\n",
      "no of elements: 8\n",
      " 2 8 3 5 7 4 1 2\n"
     ]
    },
    {
     "name": "stdout",
     "output_type": "stream",
     "text": [
      "14\n"
     ]
    }
   ],
   "source": [
    "r=int(input(\"no.of rats:\"))\n",
    "units=int(input(\"no of units:\"))\n",
    "n=int(input(\"no of elements:\"))\n",
    "arr=list(map(int,input().split()))\n",
    "food_required=r*units\n",
    "if (len(arr)==0):\n",
    "    print(-1)\n",
    "for i in range(n):\n",
    "    if food_required<0:\n",
    "        food_required=food_required-arr[i]\n",
    "    if food_required>0:\n",
    "        break\n",
    "        print(0)\n",
    "print(abs(food_required))"
   ]
  },
  {
   "cell_type": "code",
   "execution_count": 7,
   "id": "372f4f70-84e8-4ce3-90a7-57d5f146a9ac",
   "metadata": {},
   "outputs": [
    {
     "name": "stdin",
     "output_type": "stream",
     "text": [
      " 3\n",
      " 10\n"
     ]
    },
    {
     "name": "stdout",
     "output_type": "stream",
     "text": [
      "17\n"
     ]
    }
   ],
   "source": [
    "n=int(input())\n",
    "m=int(input())\n",
    "count_divisible=0\n",
    "count_not_divisible=0\n",
    "for i in range(1,m+1):\n",
    "    if i %n==0:\n",
    "        count_not_divisble+=1\n",
    "    else:\n",
    "        count_divisible+=1\n",
    "print(abs(count_divisible-count_not_divisble))"
   ]
  },
  {
   "cell_type": "code",
   "execution_count": null,
   "id": "c5a99ae6-f8c5-4516-b91a-c70d8018140e",
   "metadata": {},
   "outputs": [],
   "source": []
  }
 ],
 "metadata": {
  "kernelspec": {
   "display_name": "Python 3 (ipykernel)",
   "language": "python",
   "name": "python3"
  },
  "language_info": {
   "codemirror_mode": {
    "name": "ipython",
    "version": 3
   },
   "file_extension": ".py",
   "mimetype": "text/x-python",
   "name": "python",
   "nbconvert_exporter": "python",
   "pygments_lexer": "ipython3",
   "version": "3.12.7"
  }
 },
 "nbformat": 4,
 "nbformat_minor": 5
}
