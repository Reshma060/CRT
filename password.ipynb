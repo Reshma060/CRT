{
 "cells": [
  {
   "cell_type": "code",
   "execution_count": null,
   "id": "f5702c3c-e0ed-4c4d-acca-4347f23681fc",
   "metadata": {},
   "outputs": [],
   "source": [
    "#17/05/25 home work \n",
    "password = input(\"enter your password:\")\n",
    "score=0\n",
    "lower=password.lower()!=password\n",
    "upper=password.upper()!=password\n",
    "digit=not password.isalpha()\n",
    "special=not password.isalnum()\n",
    "if lower and upper and not digit and not special:\n",
    "    score=6\n",
    "    print(score)\n",
    "elif lower and upper and digit and not special:\n",
    "    score=8\n",
    "    print(score)\n",
    "elif lower and upper and digit and special:\n",
    "    score=10\n",
    "    print(10)\n",
    "else:\n",
    "    print(\"invaild password\")\n",
    "if score>=6 and score<=7:\n",
    "    print(\"week\")\n",
    "elif score<=8 and score>=7:\n",
    "    print(\"strong\")\n",
    "elif score>8 and score<=10:\n",
    "    print(\"verystrong\")\n",
    "else:\n",
    "    print(\"invaild password\")\n"
   ]
  },
  {
   "cell_type": "code",
   "execution_count": null,
   "id": "51c25618-7a70-40d9-a0b7-eed6e9e5386a",
   "metadata": {},
   "outputs": [],
   "source": []
  }
 ],
 "metadata": {
  "kernelspec": {
   "display_name": "Python 3 (ipykernel)",
   "language": "python",
   "name": "python3"
  },
  "language_info": {
   "codemirror_mode": {
    "name": "ipython",
    "version": 3
   },
   "file_extension": ".py",
   "mimetype": "text/x-python",
   "name": "python",
   "nbconvert_exporter": "python",
   "pygments_lexer": "ipython3",
   "version": "3.12.7"
  }
 },
 "nbformat": 4,
 "nbformat_minor": 5
}
