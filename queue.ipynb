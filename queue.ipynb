{
 "cells": [
  {
   "cell_type": "code",
   "execution_count": 11,
   "id": "918ecd16-8fb8-4317-bb9c-f3d83d00f3e7",
   "metadata": {},
   "outputs": [
    {
     "ename": "TypeError",
     "evalue": "queue.enqueue() missing 2 required positional arguments: 'q' and 'value'",
     "output_type": "error",
     "traceback": [
      "\u001b[1;31m---------------------------------------------------------------------------\u001b[0m",
      "\u001b[1;31mTypeError\u001b[0m                                 Traceback (most recent call last)",
      "Cell \u001b[1;32mIn[11], line 34\u001b[0m\n\u001b[0;32m     32\u001b[0m             \u001b[38;5;28mprint\u001b[39m(\u001b[38;5;28mself\u001b[39m\u001b[38;5;241m.\u001b[39mq[\u001b[38;5;28mself\u001b[39m\u001b[38;5;241m.\u001b[39mfront:\u001b[38;5;28mself\u001b[39m\u001b[38;5;241m.\u001b[39mreact\u001b[38;5;241m+\u001b[39m\u001b[38;5;241m1\u001b[39m])\n\u001b[0;32m     33\u001b[0m q \u001b[38;5;241m=\u001b[39m queue\n\u001b[1;32m---> 34\u001b[0m q\u001b[38;5;241m.\u001b[39menqueue(\u001b[38;5;241m90\u001b[39m)\n\u001b[0;32m     35\u001b[0m q\u001b[38;5;241m.\u001b[39mdequeue()\n\u001b[0;32m     36\u001b[0m \u001b[38;5;28mprint\u001b[39m(q)\n",
      "\u001b[1;31mTypeError\u001b[0m: queue.enqueue() missing 2 required positional arguments: 'q' and 'value'"
     ]
    }
   ],
   "source": [
    "#21/05/25\n",
    "#queues \n",
    "class queue:\n",
    "    def __init__(self,q,value,front,rare):\n",
    "        self.q=[]\n",
    "        self.value=value\n",
    "        self.front=-1\n",
    "        self.rare=-1\n",
    "    def enqueue(self,q,value):\n",
    "        if(self.front==-1):\n",
    "            self.front==0\n",
    "        self.rare=self.rare+1\n",
    "        self.q.append(value)\n",
    "    def dequeue(self):\n",
    "        if self.is_empty():\n",
    "            return \"queue is empty!\"\n",
    "        value=self.queue[self.front]\n",
    "        self.front+=1\n",
    "        if self.front> self.rare:\n",
    "            self.front=self.rare=-1\n",
    "        return value\n",
    "    def is_empty(self):\n",
    "        return self.front==-1 or self.front\n",
    "    def size(self):\n",
    "        if self.is_empty():\n",
    "            return 0\n",
    "        return self.front-self.rare-1\n",
    "    def display(self):\n",
    "        if self.is_empty():\n",
    "            print(\"queue is empty\")\n",
    "        else:\n",
    "            print(self.q[self.front:self.react+1])\n",
    "q = queue\n",
    "q.enqueue(90)\n",
    "q.dequeue()\n",
    "print(q)\n",
    "        "
   ]
  },
  {
   "cell_type": "code",
   "execution_count": null,
   "id": "ad0ebe9c-73f8-4035-9989-4250a7b4d373",
   "metadata": {},
   "outputs": [],
   "source": []
  }
 ],
 "metadata": {
  "kernelspec": {
   "display_name": "Python 3 (ipykernel)",
   "language": "python",
   "name": "python3"
  },
  "language_info": {
   "codemirror_mode": {
    "name": "ipython",
    "version": 3
   },
   "file_extension": ".py",
   "mimetype": "text/x-python",
   "name": "python",
   "nbconvert_exporter": "python",
   "pygments_lexer": "ipython3",
   "version": "3.12.7"
  }
 },
 "nbformat": 4,
 "nbformat_minor": 5
}
