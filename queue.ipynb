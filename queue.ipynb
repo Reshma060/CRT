
    "#21/05/25\n",
    "#queues \n",
    "class queue:\n",
    "    def __init__(self,q,value,front,rare):\n",
    "        self.q=[]\n",
    "        self.value=value\n",
    "        self.front=-1\n",
    "        self.rare=-1\n",
    "    def enqueue(self,q,value):\n",
    "        if(self.front==-1):\n",
    "            self.front==0\n",
    "        self.rare=self.rare+1\n",
    "        self.q.append(value)\n",
    "    def dequeue(self):\n",
    "        if self.is_empty():\n",
    "            return \"queue is empty!\"\n",
    "        value=self.queue[self.front]\n",
    "        self.front+=1\n",
    "        if self.front> self.rare:\n",
    "            self.front=self.rare=-1\n",
    "        return value\n",
    "    def is_empty(self):\n",
    "        return self.front==-1 or self.front\n",
    "    def size(self):\n",
    "        if self.is_empty():\n",
    "            return 0\n",
    "        return self.front-self.rare-1\n",
    "    def display(self):\n",
    "        if self.is_empty():\n",
    "            print(\"queue is empty\")\n",
    "        else:\n",
    "            print(self.q[self.front:self.react+1])\n",
    "q = queue\n",
    "q.enqueue(90)\n",
    "q.dequeue()\n",
    "print(q)\n",
    "        "
   ]
  },
  {
   "cell_type": "code",
   "execution_count": null,
   "id": "ad0ebe9c-73f8-4035-9989-4250a7b4d373",
   "metadata": {},
   "outputs": [],
   "source": []
  }
 ],
 "metadata": {
  "kernelspec": {
   "display_name": "Python 3 (ipykernel)",
   "language": "python",
   "name": "python3"
  },
  "language_info": {
   "codemirror_mode": {
    "name": "ipython",
    "version": 3
   },
   "file_extension": ".py",
   "mimetype": "text/x-python",
   "name": "python",
   "nbconvert_exporter": "python",
   "pygments_lexer": "ipython3",
   "version": "3.12.7"
  }
 },
 "nbformat": 4,
 "nbformat_minor": 5
}
