{
 "cells": [
  {
   "cell_type": "code",
   "execution_count": 5,
   "id": "1fde0ae6-9e61-44a8-95c9-33fc1b5a8674",
   "metadata": {},
   "outputs": [
    {
     "name": "stdout",
     "output_type": "stream",
     "text": [
      "[-8, -1, 20, 30, 45, 90]\n",
      "min= -8\n",
      "max= 90\n"
     ]
    }
   ],
   "source": [
    "#finding min and max using array \n",
    "arr=[20,-8,45,6-7,90,30]\n",
    "n=len(arr)\n",
    "n_arr=sorted(arr)\n",
    "print(n_arr)\n",
    "mini=n_arr[0]        \n",
    "maxi=n_arr[-1]\n",
    "print(\"min=\",mini)\n",
    "print(\"max=\",maxi)"
   ]
  },
  {
   "cell_type": "code",
   "execution_count": null,
   "id": "993eb5fd-2031-410c-8115-e627464d1449",
   "metadata": {},
   "outputs": [],
   "source": []
  },
  {
   "cell_type": "code",
   "execution_count": null,
   "id": "6c75a7a9-3f90-4b3c-8937-3fcde75e3b05",
   "metadata": {},
   "outputs": [],
   "source": []
  }
 ],
 "metadata": {
  "kernelspec": {
   "display_name": "Python 3 (ipykernel)",
   "language": "python",
   "name": "python3"
  },
  "language_info": {
   "codemirror_mode": {
    "name": "ipython",
    "version": 3
   },
   "file_extension": ".py",
   "mimetype": "text/x-python",
   "name": "python",
   "nbconvert_exporter": "python",
   "pygments_lexer": "ipython3",
   "version": "3.12.7"
  }
 },
 "nbformat": 4,
 "nbformat_minor": 5
}
