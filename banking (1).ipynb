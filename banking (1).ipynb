{
 "cells": [
  {
   "cell_type": "code",
   "execution_count": 1,
   "id": "5eacf8bf-8df5-4296-a038-09a96c215b5a",
   "metadata": {},
   "outputs": [
    {
     "name": "stdout",
     "output_type": "stream",
     "text": [
      "1.deposite\n",
      "2.withdraw\n",
      "3.current_balance\n",
      "4.exit\n"
     ]
    },
    {
     "name": "stdin",
     "output_type": "stream",
     "text": [
      "enter the choice: 1\n",
      "enter the money: 500\n"
     ]
    },
    {
     "name": "stdout",
     "output_type": "stream",
     "text": [
      "500 deposite successful,current balance35500\n",
      "1.deposite\n",
      "2.withdraw\n",
      "3.current_balance\n",
      "4.exit\n"
     ]
    },
    {
     "name": "stdin",
     "output_type": "stream",
     "text": [
      "enter the choice: 2\n",
      "enter the money 4000\n"
     ]
    },
    {
     "name": "stdout",
     "output_type": "stream",
     "text": [
      "4000withdraw successfully,remaining balance31500\n",
      "1.deposite\n",
      "2.withdraw\n",
      "3.current_balance\n",
      "4.exit\n"
     ]
    },
    {
     "name": "stdin",
     "output_type": "stream",
     "text": [
      "enter the choice: 3\n"
     ]
    },
    {
     "name": "stdout",
     "output_type": "stream",
     "text": [
      "current balance:31500\n",
      "1.deposite\n",
      "2.withdraw\n",
      "3.current_balance\n",
      "4.exit\n"
     ]
    },
    {
     "name": "stdin",
     "output_type": "stream",
     "text": [
      "enter the choice: 4\n"
     ]
    },
    {
     "name": "stdout",
     "output_type": "stream",
     "text": [
      "thanks for using ATM\n"
     ]
    }
   ],
   "source": [
    "#19/05/25\n",
    "#ATM SYSTEM USING OOPS \n",
    "class bank_application:\n",
    "    def __init__(self,initial_balance=0):\n",
    "        self.balance=initial_balance\n",
    "    def deposite(self):\n",
    "        amount=int(input(\"enter the money:\"))\n",
    "        self.balance+=amount\n",
    "        print(f\"{amount} deposite successful,current balance{self.balance}\")\n",
    "    def withdraw(self):\n",
    "        amount=int(input(\"enter the money\"))\n",
    "        if amount>self.balance:\n",
    "            print(f\"{amount}insufficient balance\")\n",
    "        else:\n",
    "            self.balance-=amount\n",
    "            print(f\"{amount}withdraw successfully,remaining balance{self.balance}\")\n",
    "    def check_balance(self):\n",
    "        print(f\"current balance:{self.balance}\")\n",
    "    def exit(self):\n",
    "        print(\"thanks for using ATM\")\n",
    "bank_apply=bank_application(initial_balance=35000) \n",
    "while True:\n",
    "    print(\"1.deposite\")\n",
    "    print(\"2.withdraw\")\n",
    "    print(\"3.current_balance\")\n",
    "    print(\"4.exit\")\n",
    "    choice=int(input(\"enter the choice:\"))\n",
    "    if choice==1:\n",
    "        bank_apply.deposite()\n",
    "    elif choice==2:\n",
    "        bank_apply.withdraw()\n",
    "    elif choice==3:\n",
    "        bank_apply.check_balance()\n",
    "    elif choice==4:\n",
    "        bank_apply.exit()\n",
    "        break\n",
    "    else:\n",
    "        print(\"invalid data\")"
   ]
  },
  {
   "cell_type": "code",
   "execution_count": 6,
   "id": "2fbd662e-e950-4d96-8f67-6e22d0b2ced3",
   "metadata": {},
   "outputs": [
    {
     "name": "stdout",
     "output_type": "stream",
     "text": [
      "86\n"
     ]
    }
   ],
   "source": [
    "#sum of digit + square \n",
    "n=3654\n",
    "sum=0\n",
    "while (n>0):\n",
    "    digit=n%10\n",
    "    sum=(digit*digit)+sum\n",
    "    n=n//10\n",
    "print(sum)    "
   ]
  },
  {
   "cell_type": "code",
   "execution_count": 7,
   "id": "b4779845-d9a7-48b1-a5f0-ead481891fd4",
   "metadata": {},
   "outputs": [
    {
     "name": "stdin",
     "output_type": "stream",
     "text": [
      "enter the number 3457\n"
     ]
    },
    {
     "name": "stdout",
     "output_type": "stream",
     "text": [
      "99\n"
     ]
    }
   ],
   "source": [
    "#sum of digit +square\n",
    "n=input(\"enter the number\")\n",
    "sum=0\n",
    "for i in range(0,len(n)):\n",
    "    sum+=int(n[i])**2\n",
    "print(sum)    "
   ]
  },
  {
   "cell_type": "code",
   "execution_count": null,
   "id": "86d39fbd-c61e-4b61-bda4-ae29931d2096",
   "metadata": {},
   "outputs": [],
   "source": []
  }
 ],
 "metadata": {
  "kernelspec": {
   "display_name": "Python 3 (ipykernel)",
   "language": "python",
   "name": "python3"
  },
  "language_info": {
   "codemirror_mode": {
    "name": "ipython",
    "version": 3
   },
   "file_extension": ".py",
   "mimetype": "text/x-python",
   "name": "python",
   "nbconvert_exporter": "python",
   "pygments_lexer": "ipython3",
   "version": "3.12.7"
  }
 },
 "nbformat": 4,
 "nbformat_minor": 5
}
