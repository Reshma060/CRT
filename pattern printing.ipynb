{
 "cells": [
  {
   "cell_type": "code",
   "execution_count": 8,
   "id": "368d1e7c-8139-45d8-be4d-ddd09afc638d",
   "metadata": {},
   "outputs": [
    {
     "name": "stdout",
     "output_type": "stream",
     "text": [
      "* * * * * * * * * * * * * * * * * * * * * "
     ]
    }
   ],
   "source": [
    "#start printing\n",
    "#27/05/25\n",
    "for i in range(3):\n",
    "    for j in range(7):\n",
    "        print(\"*\",end=\" \")"
   ]
  },
  {
   "cell_type": "code",
   "execution_count": 4,
   "id": "1dd6b2d8-17d7-4477-ad5d-560fddd34073",
   "metadata": {},
   "outputs": [
    {
     "name": "stdout",
     "output_type": "stream",
     "text": [
      "* * * * * \n",
      "* * * * * \n",
      "* * * * * \n",
      "* * * * * \n",
      "* * * * * \n"
     ]
    }
   ],
   "source": [
    "for i in range(5):\n",
    "    for j in range(5):\n",
    "        print(\"*\",end=\" \")\n",
    "    print()"
   ]
  },
  {
   "cell_type": "code",
   "execution_count": 20,
   "id": "cc76f515-3583-43a1-af38-521dca992945",
   "metadata": {},
   "outputs": [
    {
     "name": "stdout",
     "output_type": "stream",
     "text": [
      "$ & & & \n",
      "& $ & & \n",
      "& & $ & \n",
      "& & & $ \n"
     ]
    }
   ],
   "source": [
    "for i in range(4):\n",
    "    for j in range(4):\n",
    "        if i==j:\n",
    "            print(\"$\",end=\" \")\n",
    "        else:\n",
    "            print(\"&\",end=\" \")\n",
    "    print()"
   ]
  },
  {
   "cell_type": "code",
   "execution_count": 21,
   "id": "881d9bca-ab46-4f3a-8ae4-e6f939f8ccd1",
   "metadata": {},
   "outputs": [
    {
     "name": "stdout",
     "output_type": "stream",
     "text": [
      "1 2 3 4 \n",
      "1 2 3 4 \n",
      "1 2 3 4 \n",
      "1 2 3 4 \n"
     ]
    }
   ],
   "source": [
    "for i in range(4):\n",
    "    for j in range(4):\n",
    "        print(j+1,end=\" \")\n",
    "    print()"
   ]
  },
  {
   "cell_type": "code",
   "execution_count": 46,
   "id": "1dba5183-4942-41a8-83a6-6496804bae0a",
   "metadata": {},
   "outputs": [
    {
     "name": "stdout",
     "output_type": "stream",
     "text": [
      "1\t2\t3\t4\t\n",
      "5\t6\t7\t8\t\n",
      "9\t10\t11\t12\t\n",
      "13\t14\t15\t16\t\n"
     ]
    }
   ],
   "source": [
    "for i in range(1, 5):\n",
    "    for j in range(1, 5):\n",
    "        print(j +(i- 1)* 4,end=\"\\t\")\n",
    "    print()"
   ]
  },
  {
   "cell_type": "code",
   "execution_count": 43,
   "id": "b68dca95-27e8-4aa3-8ce3-9b862d865210",
   "metadata": {},
   "outputs": [
    {
     "name": "stdout",
     "output_type": "stream",
     "text": [
      "* * * * \n",
      "*     * \n",
      "*     * \n",
      "* * * * \n"
     ]
    }
   ],
   "source": [
    "#halo square\n",
    "for i in range(1,5):\n",
    "    for j in range(1,5):\n",
    "        if i==1 or i==4 or j==1 or j==4:\n",
    "            print(\"*\",end=\" \")\n",
    "        else:\n",
    "            print(\" \",end=\" \")\n",
    "    print()      "
   ]
  },
  {
   "cell_type": "code",
   "execution_count": 45,
   "id": "4ac3dc5d-41e4-4b73-a8db-69342d9a0500",
   "metadata": {},
   "outputs": [
    {
     "name": "stdout",
     "output_type": "stream",
     "text": [
      "1\t2\t3\t4\t\n",
      "5\t \t \t8\t\n",
      "9\t \t \t12\t\n",
      "13\t14\t15\t16\t\n"
     ]
    }
   ],
   "source": [
    "for i in range(1,5):\n",
    "    for j in range(1,5):\n",
    "        if i==1 or i==4 or j==1 or j==4:\n",
    "            print(j +(i- 1)* 4,end=\"\\t\")\n",
    "        else:\n",
    "            print(\" \",end=\"\\t\")\n",
    "    print()      "
   ]
  },
  {
   "cell_type": "code",
   "execution_count": 49,
   "id": "e7682aaa-1dad-4adf-9075-105229117209",
   "metadata": {},
   "outputs": [
    {
     "name": "stdout",
     "output_type": "stream",
     "text": [
      "&       \n",
      "& &     \n",
      "& & &   \n",
      "& & & & \n"
     ]
    }
   ],
   "source": [
    "# left pyramids\n",
    "for i in range(1,5):\n",
    "    for j in range(1,5):\n",
    "        if i<j:\n",
    "            print(\" \",end=\" \")\n",
    "        else:\n",
    "            print(\"&\",end=\" \")\n",
    "    print()"
   ]
  },
  {
   "cell_type": "code",
   "execution_count": 51,
   "id": "d8b6c234-39c7-4591-a7a5-7715905960be",
   "metadata": {},
   "outputs": [
    {
     "name": "stdout",
     "output_type": "stream",
     "text": [
      "* * * * \n",
      "  * * * \n",
      "    * * \n",
      "      * \n"
     ]
    }
   ],
   "source": [
    "for i in range(1,5):\n",
    "    for j in range(1,5):\n",
    "        if i>j:\n",
    "            print(\" \",end=\" \")\n",
    "        else:\n",
    "            print(\"*\",end=\" \")\n",
    "    print()"
   ]
  },
  {
   "cell_type": "code",
   "execution_count": 56,
   "id": "2caa6245-721f-40a5-aef5-9dec1620bdaf",
   "metadata": {},
   "outputs": [
    {
     "name": "stdout",
     "output_type": "stream",
     "text": [
      "        * \n",
      "      * * \n",
      "    * * * \n",
      "  * * * * \n",
      "* * * * * \n"
     ]
    }
   ],
   "source": [
    "for i in range(5):\n",
    "    for j in range(5):\n",
    "        if j<4-i:\n",
    "            print(\" \",end=\" \")\n",
    "        else:\n",
    "            print(\"*\",end=\" \")\n",
    "    print()"
   ]
  },
  {
   "cell_type": "code",
   "execution_count": 73,
   "id": "95b3b10c-5ebf-4c2d-9dc0-7f9145541017",
   "metadata": {},
   "outputs": [
    {
     "name": "stdout",
     "output_type": "stream",
     "text": [
      "* * * *   \n",
      "* * *     \n",
      "* *       \n",
      "*         \n",
      "          \n"
     ]
    }
   ],
   "source": [
    "for i in range(1,6):\n",
    "    for j in range(1,6):\n",
    "        if j>5-i:\n",
    "            print(\" \",end=\" \")\n",
    "        else:\n",
    "            print(\"*\",end=\" \")\n",
    "    print()"
   ]
  },
  {
   "cell_type": "code",
   "execution_count": 68,
   "id": "8aaca806-25ac-4f36-a6da-5e84b7b8f114",
   "metadata": {},
   "outputs": [
    {
     "name": "stdout",
     "output_type": "stream",
     "text": [
      "xxxx\n",
      "xxx\n",
      "xx\n",
      "x\n"
     ]
    }
   ],
   "source": [
    "for i in range(4,0,-1):\n",
    "    print(\"x\"*i)"
   ]
  },
  {
   "cell_type": "code",
   "execution_count": 76,
   "id": "aa8a2abc-5111-43dc-a644-5c3f12d76115",
   "metadata": {},
   "outputs": [
    {
     "name": "stdout",
     "output_type": "stream",
     "text": [
      "1       \n",
      "1 2     \n",
      "1 2 3   \n",
      "1 2 3 4 \n"
     ]
    }
   ],
   "source": [
    "for i in range(1,5):\n",
    "    for j in range(1,5):\n",
    "        if i<j:\n",
    "            print(\" \",end=\" \")\n",
    "        else:\n",
    "            print(j,end=\" \")\n",
    "    print()"
   ]
  },
  {
   "cell_type": "code",
   "execution_count": null,
   "id": "adcf6cc2-95b0-4a69-a3dc-775e9bd5421a",
   "metadata": {},
   "outputs": [],
   "source": []
  }
 ],
 "metadata": {
  "kernelspec": {
   "display_name": "Python 3 (ipykernel)",
   "language": "python",
   "name": "python3"
  },
  "language_info": {
   "codemirror_mode": {
    "name": "ipython",
    "version": 3
   },
   "file_extension": ".py",
   "mimetype": "text/x-python",
   "name": "python",
   "nbconvert_exporter": "python",
   "pygments_lexer": "ipython3",
   "version": "3.12.7"
  }
 },
 "nbformat": 4,
 "nbformat_minor": 5
}
