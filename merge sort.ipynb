{
 "cells": [
  {
   "cell_type": "code",
   "execution_count": 6,
   "id": "bb7350b1-986e-470f-8f13-a4563ffee7cf",
   "metadata": {},
   "outputs": [
    {
     "name": "stdout",
     "output_type": "stream",
     "text": [
      "[4, 12, 30, 45, 49]\n"
     ]
    }
   ],
   "source": [
    "#merge sort\n",
    "#26/05/25\n",
    "\n",
    "def merge_sort(arr,start=0,end=None):\n",
    "    if end is None:\n",
    "        end=len(arr)-1\n",
    "    if start < end:\n",
    "        mid=(start+end)//2\n",
    "        merge_sort(arr,start,mid)\n",
    "        merge_sort(arr,mid+1,end)\n",
    "        merge(arr,start,mid,end)\n",
    "def merge(arr,start,mid,end):\n",
    "    left=arr[start:mid+1]\n",
    "    right=arr[mid+1:end+1]\n",
    "    i=j=0\n",
    "    k=start\n",
    "    while i <len(left)and j<len(right):\n",
    "        if left[i]<=right[j]:\n",
    "            arr[k]=left[i]\n",
    "            i+=1\n",
    "        else:\n",
    "            arr[k]=right[j]\n",
    "            j+=1\n",
    "        k+=1\n",
    "    while i<len(left):\n",
    "        arr[k]=left[i]\n",
    "        i+=1\n",
    "        k+=1\n",
    "    while j<len(right):\n",
    "        arr[k]=right[j]\n",
    "        j+=1\n",
    "        k+=1\n",
    "arr=[30,12,4,49,45]\n",
    "merge_sort(arr)\n",
    "print(arr)"
   ]
  },
  {
   "cell_type": "code",
   "execution_count": 10,
   "id": "0cb0cb7a-9dbd-4ff0-970c-05116fc8de4f",
   "metadata": {},
   "outputs": [
    {
     "name": "stdout",
     "output_type": "stream",
     "text": [
      "piot: 36\n",
      "left sub array [23, 12]\n",
      "right sub array [63, 44, 57, 45]\n",
      "equal array [36]\n",
      "piot: 12\n",
      "left sub array []\n",
      "right sub array [23]\n",
      "equal array [12]\n",
      "piot: 45\n",
      "left sub array [44]\n",
      "right sub array [63, 57]\n",
      "equal array [45]\n",
      "piot: 57\n",
      "left sub array []\n",
      "right sub array [63]\n",
      "equal array [57]\n",
      "[23, 63, 44, 57, 12, 45, 36]\n"
     ]
    }
   ],
   "source": [
    "#quick sort\n",
    "def quick_sort(arr):\n",
    "    if len(arr)<=1:\n",
    "        return arr\n",
    "    left=[]\n",
    "    right=[]\n",
    "    equal=[]\n",
    "    pvt=arr[-1]\n",
    "    for i in arr:\n",
    "        if i < pvt:\n",
    "            left.append(i)\n",
    "        elif i>pvt:\n",
    "            right.append(i)\n",
    "        else:\n",
    "            equal.append(i)\n",
    "    print(\"piot:\",pvt)\n",
    "    print(\"left sub array\",left)\n",
    "    print(\"right sub array\",right)\n",
    "    print(\"equal array\",equal)\n",
    "    return quick_sort(left)+equal+quick_sort(right)\n",
    "arr=[23,63,44,57,12,45,36]\n",
    "sorted_arr=quick_sort(arr)\n",
    "print(arr)"
   ]
  },
  {
   "cell_type": "code",
   "execution_count": 19,
   "id": "090bebe2-63ba-4b42-8db0-8b3bf8175570",
   "metadata": {},
   "outputs": [
    {
     "name": "stdout",
     "output_type": "stream",
     "text": [
      "[3, 8, 14, 19]\n"
     ]
    }
   ],
   "source": [
    "#insertion sorting\n",
    "\n",
    "def insertion_sort(arr):\n",
    "    for i in range(1,len(arr)):\n",
    "        key=arr[i]\n",
    "        j=i-1\n",
    "        while j>=0 and key<arr[j]:\n",
    "            arr[j+1]=arr[j]\n",
    "            j-=1\n",
    "        arr[j+1]=key\n",
    "    return arr\n",
    "arr=[8,3,14,19]\n",
    "sorted_arr=insertion_sort(arr)\n",
    "print(sorted_arr)"
   ]
  },
  {
   "cell_type": "code",
   "execution_count": 20,
   "id": "7aeb6971-3959-42af-b489-09e6ba305f28",
   "metadata": {},
   "outputs": [
    {
     "name": "stdout",
     "output_type": "stream",
     "text": [
      "[3, 8, 14, 19]\n"
     ]
    }
   ],
   "source": [
    "#bubble sorting\n",
    "def bubble_sort(arr):\n",
    "    n=len(arr)\n",
    "    for i in range(n):\n",
    "        for j in range(0,n-i-1):\n",
    "            if arr[j]>arr[j+1]:\n",
    "                arr[j],arr[j+1]=arr[j+1],arr[j]\n",
    "    return arr\n",
    "arr=[8,3,14,19]\n",
    "sorted_arr=bubble_sort(arr)\n",
    "print(sorted_arr)"
   ]
  },
  {
   "cell_type": "code",
   "execution_count": null,
   "id": "80dba48d-0342-4962-989a-807776f2f306",
   "metadata": {},
   "outputs": [],
   "source": []
  }
 ],
 "metadata": {
  "kernelspec": {
   "display_name": "Python 3 (ipykernel)",
   "language": "python",
   "name": "python3"
  },
  "language_info": {
   "codemirror_mode": {
    "name": "ipython",
    "version": 3
   },
   "file_extension": ".py",
   "mimetype": "text/x-python",
   "name": "python",
   "nbconvert_exporter": "python",
   "pygments_lexer": "ipython3",
   "version": "3.12.7"
  }
 },
 "nbformat": 4,
 "nbformat_minor": 5
}
