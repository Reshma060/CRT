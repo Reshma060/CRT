{
 "cells": [
  {
   "cell_type": "code",
   "execution_count": 9,
   "id": "09b557a2-d470-42ce-acd0-6bdeea8c4e32",
   "metadata": {},
   "outputs": [
    {
     "name": "stdout",
     "output_type": "stream",
     "text": [
      "12\n"
     ]
    }
   ],
   "source": [
    "#sum of digit use while loop\n",
    "n=138\n",
    "sum=0\n",
    "while(n>0):\n",
    "    digit=n%10\n",
    "    sum=sum+digit\n",
    "    n=n//10\n",
    "print(sum)"
   ]
  },
  {
   "cell_type": "code",
   "execution_count": 10,
   "id": "7aa7f686-5a52-4288-be0a-0f9969deefcd",
   "metadata": {},
   "outputs": [
    {
     "name": "stdout",
     "output_type": "stream",
     "text": [
      "3\n"
     ]
    }
   ],
   "source": [
    "#count no of digit\n",
    "n=138\n",
    "count=0\n",
    "while(n>0):\n",
    "    digit=n%10\n",
    "    count=count+1\n",
    "    n=n//10\n",
    "print(count)"
   ]
  },
  {
   "cell_type": "code",
   "execution_count": 1,
   "id": "a96869c7-f726-4a08-89f9-9cbb75e6eb10",
   "metadata": {},
   "outputs": [
    {
     "name": "stdout",
     "output_type": "stream",
     "text": [
      "8\n"
     ]
    }
   ],
   "source": [
    "n=138\n",
    "sum=0\n",
    "while n>0:\n",
    "    digit=n%10\n",
    "    if digit%2==0:\n",
    "        sum=sum+digit\n",
    "    n=n//10\n",
    "print(sum)"
   ]
  },
  {
   "cell_type": "code",
   "execution_count": 2,
   "id": "512855a7-7374-4d41-aa25-595367b7668e",
   "metadata": {},
   "outputs": [
    {
     "name": "stdout",
     "output_type": "stream",
     "text": [
      "4\n"
     ]
    }
   ],
   "source": [
    "n=138\n",
    "sum=0\n",
    "while n>0:\n",
    "    digit=n%10\n",
    "    if digit%2!=0:\n",
    "        sum=sum+digit\n",
    "    n=n//10\n",
    "print(sum)"
   ]
  },
  {
   "cell_type": "code",
   "execution_count": 3,
   "id": "f05be7a6-65a6-454e-a733-727e927704ec",
   "metadata": {},
   "outputs": [
    {
     "name": "stdin",
     "output_type": "stream",
     "text": [
      "enter the values: 1 2 3 45 67 \n"
     ]
    },
    {
     "name": "stdout",
     "output_type": "stream",
     "text": [
      "[1, 2, 3, 45, 67]\n"
     ]
    }
   ],
   "source": [
    "#list\n",
    "lst=list(map(int,input(\"enter the values:\").split()))\n",
    "print(lst)"
   ]
  },
  {
   "cell_type": "code",
   "execution_count": 4,
   "id": "6970252b-1261-4d9e-b108-18edd750036c",
   "metadata": {},
   "outputs": [
    {
     "name": "stdout",
     "output_type": "stream",
     "text": [
      "['hi', 1, 2, 34]\n"
     ]
    }
   ],
   "source": [
    "list=[\"hi\",1,2,34]\n",
    "print(list)"
   ]
  },
  {
   "cell_type": "code",
   "execution_count": 8,
   "id": "31ae1acc-6516-45d8-86d9-4fdbfcf5ab09",
   "metadata": {},
   "outputs": [
    {
     "name": "stdout",
     "output_type": "stream",
     "text": [
      "negative lst= [-5, -6]\n",
      "positive lst= [3, 4, 8, 3, 4]\n"
     ]
    }
   ],
   "source": [
    "#list method\n",
    "#append\n",
    "lst=[3,4,-5,-6,8,3,4]\n",
    "a=[]\n",
    "b=[]\n",
    "for i in range(0,len(lst)):\n",
    "    if lst[i]>0:\n",
    "        a.append(lst[i])\n",
    "    else:\n",
    "        b.append(lst[i])\n",
    "print(\"negative lst=\",b)\n",
    "print(\"positive lst=\",a)"
   ]
  },
  {
   "cell_type": "code",
   "execution_count": 18,
   "id": "1100040c-d1fb-4648-8145-86fe2b862260",
   "metadata": {},
   "outputs": [
    {
     "name": "stdout",
     "output_type": "stream",
     "text": [
      "PYTHONPROGRAMMING\n",
      "pythonprogramming\n",
      "pyThoNProGRammIng\n",
      "pyThoNProGRammIng\n",
      "pyThoNProGRammIng\n",
      "PYTHONPROGRAMMING\n",
      "-1\n",
      "False\n",
      "True\n",
      "True\n",
      "True\n",
      "False\n"
     ]
    }
   ],
   "source": [
    "#string methods\n",
    "a=\"pyThoNProGRammIng\"\n",
    "print(a.upper())\n",
    "print(a.lower())\n",
    "print(a.strip())\n",
    "print(a.lstrip())\n",
    "print(a.rstrip())\n",
    "print(a.upper().replace('python','java'))\n",
    "print(a.upper().find('python'))\n",
    "print(a.startswith(\"P\"))\n",
    "print(a.endswith(\"g\"))\n",
    "print(a.isalpha())\n",
    "print(a.isalnum())\n",
    "print(a.isdigit())"
   ]
  },
  {
   "cell_type": "code",
   "execution_count": 21,
   "id": "9e86a0cf-015d-4e92-90de-a07ff0b0ea66",
   "metadata": {},
   "outputs": [
    {
     "name": "stdout",
     "output_type": "stream",
     "text": [
      "6\n"
     ]
    }
   ],
   "source": [
    "#count of vowels using for loop in string\n",
    "R=\"sarath chandra prasad\"\n",
    "v=\"aeiou\"\n",
    "count=0\n",
    "for i in R:\n",
    "    if i in v:\n",
    "        count=count+1\n",
    "print(count)"
   ]
  },
  {
   "cell_type": "code",
   "execution_count": 27,
   "id": "ec66010a-4679-40d0-b08d-57696f824417",
   "metadata": {},
   "outputs": [
    {
     "name": "stdout",
     "output_type": "stream",
     "text": [
      "7\n"
     ]
    }
   ],
   "source": [
    "# repeat letter \n",
    "R=\"sarath chandra prasad hemanth \"\n",
    "v='a'\n",
    "count=0\n",
    "for i in R:\n",
    "    if i==v:\n",
    "        count+=1\n",
    "print(count)"
   ]
  },
  {
   "cell_type": "code",
   "execution_count": 29,
   "id": "e36e2e3d-a3d8-4453-be42-c7e238a14b43",
   "metadata": {},
   "outputs": [
    {
     "name": "stdout",
     "output_type": "stream",
     "text": [
      "3\n"
     ]
    }
   ],
   "source": [
    "#how many space\n",
    "R=\"sarath chandra prasad hemanth\"\n",
    "count=0\n",
    "for i in R:\n",
    "    if i==\" \":\n",
    "        count+=1\n",
    "print(count)"
   ]
  },
  {
   "cell_type": "code",
   "execution_count": 30,
   "id": "c637a300-9411-4895-8ae2-3fa15098b4b2",
   "metadata": {},
   "outputs": [
    {
     "name": "stdout",
     "output_type": "stream",
     "text": [
      "False\n",
      "sarath chandra prasad hemanth \n"
     ]
    }
   ],
   "source": [
    "R=\"sarath chandra prasad hemanth \"\n",
    "print(R.isdigit())\n",
    "print(R)"
   ]
  },
  {
   "cell_type": "code",
   "execution_count": 36,
   "id": "18a6cec9-df7e-4986-a138-fbfc779c4ae2",
   "metadata": {},
   "outputs": [
    {
     "name": "stdout",
     "output_type": "stream",
     "text": [
      "13\n"
     ]
    }
   ],
   "source": [
    "s=\"JOHN123PYTHON\"\n",
    "count=0\n",
    "for i in s:\n",
    "     if i.isalnum()==True:\n",
    "        count=count+1\n",
    "print(count)"
   ]
  },
  {
   "cell_type": "code",
   "execution_count": 41,
   "id": "6a95e6f2-7a10-456f-85e3-67c45c97756c",
   "metadata": {},
   "outputs": [
    {
     "name": "stdout",
     "output_type": "stream",
     "text": [
      "10\n"
     ]
    }
   ],
   "source": [
    "s=\"JOHN123PYTHON\"\n",
    "count=0\n",
    "for i in s:\n",
    "     if i.isalpha()==True:\n",
    "        count=count+1\n",
    "print(count)"
   ]
  },
  {
   "cell_type": "code",
   "execution_count": 39,
   "id": "8fa3b739-e3f3-4daa-8dc5-34f3b0be6f56",
   "metadata": {},
   "outputs": [
    {
     "name": "stdout",
     "output_type": "stream",
     "text": [
      "3\n"
     ]
    }
   ],
   "source": [
    "s=\"JOHN123PYTHON\"\n",
    "count=0\n",
    "for i in s:\n",
    "     if i.isdigit()==True:\n",
    "        count=count+1\n",
    "print(count)"
   ]
  },
  {
   "cell_type": "code",
   "execution_count": 2,
   "id": "1dec69ba-b1de-4c21-a8b8-156b7be46a55",
   "metadata": {},
   "outputs": [
    {
     "name": "stdout",
     "output_type": "stream",
     "text": [
      "reSHmA\n"
     ]
    }
   ],
   "source": [
    "#toggle case\n",
    "text = \"REshMa\"\n",
    "toggled_text = text.swapcase()\n",
    "print(toggled_text)"
   ]
  },
  {
   "cell_type": "code",
   "execution_count": 23,
   "id": "4e1ed6cc-11c2-4d91-abf8-c2a8fe1f5524",
   "metadata": {},
   "outputs": [
    {
     "name": "stdout",
     "output_type": "stream",
     "text": [
      "{1, 2, 3, 4, 5, 6}\n",
      "{1, 2, 3, 4, 5, 6, 7, 8}\n",
      "{1, 2, 4, 5, 6, 7}\n",
      "{2, 4, 5, 6, 7}\n",
      "set()\n",
      "{1, 2, 3, 4, 5}\n"
     ]
    }
   ],
   "source": [
    "#dictionary\n",
    "#add\n",
    "my_set={1,2,3,4,5}\n",
    "my_set.add(6)\n",
    "print(my_set)\n",
    "#update\n",
    "my_set.update({7,8})\n",
    "print(my_set)\n",
    "#discard\n",
    "my_set.discard(3)\n",
    "my_set.discard(8)\n",
    "print(my_set)\n",
    "my_set.pop()\n",
    "print(my_set)\n",
    "my_set.clear()\n",
    "print(my_set)\n",
    "my_set={1,2,3,4,5}\n",
    "new_set=my_set.copy()\n",
    "print(new_set)"
   ]
  },
  {
   "cell_type": "code",
   "execution_count": null,
   "id": "a3a8b1a9-8ed6-4cb6-9c88-f0c422bdd609",
   "metadata": {},
   "outputs": [],
   "source": []
  }
 ],
 "metadata": {
  "kernelspec": {
   "display_name": "Python 3 (ipykernel)",
   "language": "python",
   "name": "python3"
  },
  "language_info": {
   "codemirror_mode": {
    "name": "ipython",
    "version": 3
   },
   "file_extension": ".py",
   "mimetype": "text/x-python",
   "name": "python",
   "nbconvert_exporter": "python",
   "pygments_lexer": "ipython3",
   "version": "3.12.7"
  }
 },
 "nbformat": 4,
 "nbformat_minor": 5
}
