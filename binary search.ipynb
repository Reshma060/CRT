{
 "cells": [
  {
   "cell_type": "code",
   "execution_count": 1,
   "id": "abeb6896-e865-4e52-aa43-eb3b9c97627e",
   "metadata": {},
   "outputs": [
    {
     "name": "stdout",
     "output_type": "stream",
     "text": [
      "3\n"
     ]
    }
   ],
   "source": [
    "#26/05/25\n",
    "#binary search\n",
    "def binary_search(arr,target):\n",
    "    start=0\n",
    "    end=len(arr)\n",
    "    mid=(start+end)//2\n",
    "    while(start<=end):\n",
    "        if arr[mid]==target:\n",
    "            return mid\n",
    "        elif arr[mid]<target:\n",
    "            start=mid+1\n",
    "        else:\n",
    "            end=mid-1\n",
    "        mid=(start+end)//2\n",
    "    return -1\n",
    "arr=[4,5,6,7,8,9,10,11,12]\n",
    "target=7\n",
    "result=binary_search(arr,target)\n",
    "print(result)"
   ]
  },
  {
   "cell_type": "code",
   "execution_count": 21,
   "id": "5f7ce1d4-1d6d-4ec0-9b50-ecfd12219e9b",
   "metadata": {},
   "outputs": [
    {
     "name": "stdout",
     "output_type": "stream",
     "text": [
      "3\n"
     ]
    }
   ],
   "source": [
    "def binarysearch(arr,k):\n",
    "    start,end=0,len(arr)-1\n",
    "    result=-1\n",
    "    while start<=end:\n",
    "        mid=(start+end)//2\n",
    "        if arr[mid]==k:\n",
    "            result=mid\n",
    "            end=mid-1\n",
    "        elif arr[mid]<k:\n",
    "            start=mid+1\n",
    "        elif arr[mid]<k:\n",
    "            start=mid+1\n",
    "        else:\n",
    "            end=mid-1\n",
    "    return result\n",
    "arr= [1, 2, 3, 4, 5]\n",
    "k=4\n",
    "result=binarysearch(arr,k)\n",
    "print(result)"
   ]
  },
  {
   "cell_type": "code",
   "execution_count": 24,
   "id": "4e52c7d1-df5c-48bd-9195-3a344e050f65",
   "metadata": {},
   "outputs": [
    {
     "name": "stdout",
     "output_type": "stream",
     "text": [
      "3\n"
     ]
    }
   ],
   "source": [
    "class Solution:\n",
    "    def __init__(self,arr,k):\n",
    "        self.arr=arr\n",
    "        self.k=k\n",
    "    def binarysearch(arr,k):\n",
    "        start,end=0,len(arr)-1\n",
    "        result=-1\n",
    "        while start<=end:\n",
    "            mid=(start+end)//2\n",
    "            if arr[mid]==k:\n",
    "                result=mid\n",
    "                end=mid-1\n",
    "            elif arr[mid]<k:\n",
    "                start=mid+1\n",
    "            elif arr[mid]<k:\n",
    "                start=mid+1\n",
    "            else:\n",
    "                end=mid-1\n",
    "        return result\n",
    "obj=Solution \n",
    "arr= [1, 2, 3, 4, 5]\n",
    "k=4\n",
    "result= obj.binarysearch(arr,k)\n",
    "print(result)"
   ]
  },
  {
   "cell_type": "code",
   "execution_count": null,
   "id": "cc0c1dfe-e13a-45c0-9d22-7f3dcb2583a8",
   "metadata": {},
   "outputs": [],
   "source": []
  }
 ],
 "metadata": {
  "kernelspec": {
   "display_name": "Python 3 (ipykernel)",
   "language": "python",
   "name": "python3"
  },
  "language_info": {
   "codemirror_mode": {
    "name": "ipython",
    "version": 3
   },
   "file_extension": ".py",
   "mimetype": "text/x-python",
   "name": "python",
   "nbconvert_exporter": "python",
   "pygments_lexer": "ipython3",
   "version": "3.12.7"
  }
 },
 "nbformat": 4,
 "nbformat_minor": 5
}
