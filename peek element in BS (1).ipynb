{
 "cells": [
  {
   "cell_type": "code",
   "execution_count": 6,
   "id": "2b099b9d-0bf2-4a86-b074-5bd9555abd11",
   "metadata": {},
   "outputs": [
    {
     "name": "stdout",
     "output_type": "stream",
     "text": [
      "Peek element is: 88\n"
     ]
    }
   ],
   "source": [
    "#home work on peek elements\n",
    "#26/05/25\n",
    "def find_peek(arr):\n",
    "    start = 0\n",
    "    end = len(arr) - 1\n",
    "    while start <= end:\n",
    "        mid = (start + end) // 2\n",
    "        if (mid == 0 or arr[mid] >= arr[mid - 1]) and \\\n",
    "           (mid == len(arr) - 1 or arr[mid] >= arr[mid + 1]):\n",
    "            return arr[mid]\n",
    "        elif mid < len(arr) - 1 and arr[mid] < arr[mid + 1]:\n",
    "            start = mid \n",
    "        else:\n",
    "            end = mid - 1\n",
    "arr = [1,23,45,67,88,21]\n",
    "print(\"Peek element is:\", find_peek(arr))\n"
   ]
  },
  {
   "cell_type": "code",
   "execution_count": null,
   "id": "ccbad011-904e-469d-80a9-2a17b0239c4c",
   "metadata": {},
   "outputs": [],
   "source": []
  }
 ],
 "metadata": {
  "kernelspec": {
   "display_name": "Python 3 (ipykernel)",
   "language": "python",
   "name": "python3"
  },
  "language_info": {
   "codemirror_mode": {
    "name": "ipython",
    "version": 3
   },
   "file_extension": ".py",
   "mimetype": "text/x-python",
   "name": "python",
   "nbconvert_exporter": "python",
   "pygments_lexer": "ipython3",
   "version": "3.12.7"
  }
 },
 "nbformat": 4,
 "nbformat_minor": 5
}
