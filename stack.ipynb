{
 "cells": [
  {
   "cell_type": "code",
   "execution_count": null,
   "id": "824dd851-a8e1-4248-9b1e-a4cbb7eed597",
   "metadata": {},
   "outputs": [],
   "source": [
    "#21/05/25\n",
    "#stcak\n",
    "class elements:\n",
    "    stack=[]\n",
    "    top=-1\n",
    "    def push(value):\n",
    "        global top\n",
    "        stack.append(value)\n",
    "        top+=1\n",
    "    def pop():\n",
    "       global top\n",
    "       if top==-1:\n",
    "           print(\"stack is empty.Nothing to pop\")\n",
    "           return\n",
    "       else:\n",
    "           stack.pop()\n",
    "           top-=1\n",
    "    def peek():\n",
    "        if top==-1:\n",
    "            return \"stack is empty.No top element\"\n",
    "        else:\n",
    "            return f\"top element={stack[top]}\"\n",
    "    def display():\n",
    "      if (top==-1):\n",
    "          print(\"empty\")\n",
    "      else:\n",
    "          for i in range(top,-1,-1):\n",
    "              print(stack[i])\n",
    "obj_1=elements\n",
    "while True:\n",
    "    print(\"1.push\")\n",
    "    print(\"2.pop\")\n",
    "    print(\"3.peek\")\n",
    "    print(\"4.exit\")\n",
    "choice=int(input(\"enter your choice\"))\n",
    "if (choice==1):\n",
    "    print(obj_1.push())\n",
    "elif (choice==2):\n",
    "    print(obj_1.pop())\n",
    "elif (choice==3):\n",
    "    print(obj_1.peek())\n",
    "elif (choice==4):\n",
    "    print(obj_1.exit())\n",
    "    break\n",
    "else:\n",
    "    print(\"invalid input\")"
   ]
  },
  {
   "cell_type": "code",
   "execution_count": null,
   "id": "967a3581-aca1-4398-8df1-30a9c575d935",
   "metadata": {},
   "outputs": [],
   "source": []
  },
  {
   "cell_type": "code",
   "execution_count": null,
   "id": "521beafa-523f-423e-a97b-93de413732a9",
   "metadata": {},
   "outputs": [],
   "source": []
  }
 ],
 "metadata": {
  "kernelspec": {
   "display_name": "Python 3 (ipykernel)",
   "language": "python",
   "name": "python3"
  },
  "language_info": {
   "codemirror_mode": {
    "name": "ipython",
    "version": 3
   },
   "file_extension": ".py",
   "mimetype": "text/x-python",
   "name": "python",
   "nbconvert_exporter": "python",
   "pygments_lexer": "ipython3",
   "version": "3.12.7"
  }
 },
 "nbformat": 4,
 "nbformat_minor": 5
}
