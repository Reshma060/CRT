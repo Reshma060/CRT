{
 "cells": [
  {
   "cell_type": "code",
   "execution_count": 1,
   "id": "1fe97527-da2a-4f0a-a2e4-a244900958ec",
   "metadata": {},
   "outputs": [
    {
     "name": "stdout",
     "output_type": "stream",
     "text": [
      "hello word "
     ]
    }
   ],
   "source": [
    "#16/05/25\n",
    "#data types\n",
    "#strings\n",
    "a=\"hello\"\n",
    "b=\"word\"\n",
    "print(a,end=\" \")\n",
    "print(b,end=\" \")"
   ]
  },
  {
   "cell_type": "code",
   "execution_count": 4,
   "id": "638cbd75-34e3-4437-a955-355454aa9437",
   "metadata": {},
   "outputs": [
    {
     "name": "stdout",
     "output_type": "stream",
     "text": [
      "5.656854249492381\n"
     ]
    }
   ],
   "source": [
    "#exponetial\n",
    "a=2**2.5\n",
    "print(a)"
   ]
  },
  {
   "cell_type": "code",
   "execution_count": 6,
   "id": "ef9c51b3-4b3a-459e-a789-b1dbb3013816",
   "metadata": {},
   "outputs": [
    {
     "name": "stdout",
     "output_type": "stream",
     "text": [
      "0 3\n"
     ]
    }
   ],
   "source": [
    "#modular\n",
    "a=10%2\n",
    "b=3%15\n",
    "print(a,b)"
   ]
  },
  {
   "cell_type": "code",
   "execution_count": 7,
   "id": "06519eba-ab6d-416b-ba0a-853cfb0ac859",
   "metadata": {},
   "outputs": [
    {
     "name": "stdout",
     "output_type": "stream",
     "text": [
      "0\n"
     ]
    }
   ],
   "source": [
    "#floor division\n",
    "a=2//5\n",
    "print(a)"
   ]
  },
  {
   "cell_type": "code",
   "execution_count": 9,
   "id": "71950381-6e6f-4c23-92da-c203bbb292a6",
   "metadata": {},
   "outputs": [
    {
     "name": "stdout",
     "output_type": "stream",
     "text": [
      "11\n",
      "10\n"
     ]
    }
   ],
   "source": [
    "#assignment operations\n",
    "#assign value \n",
    "a=10\n",
    "print(a+1)\n",
    "print(a)"
   ]
  },
  {
   "cell_type": "code",
   "execution_count": 16,
   "id": "c5ef069b-10c0-431c-91dc-c4fbd49c78a1",
   "metadata": {},
   "outputs": [
    {
     "name": "stdout",
     "output_type": "stream",
     "text": [
      "0\n",
      "14\n",
      "14\n",
      "20\n",
      "5\n",
      "-5\n"
     ]
    }
   ],
   "source": [
    "#bitiwise operator \n",
    "#and operation\n",
    "a = 10  \n",
    "b = 4\n",
    "print(a & b)\n",
    "print(a^b)\n",
    "print(a|b)\n",
    "print(a<<1)\n",
    "print(a>>1)\n",
    "print(~b)"
   ]
  },
  {
   "cell_type": "code",
   "execution_count": 18,
   "id": "88a22fed-dd7d-4588-b795-b58f0ee69a20",
   "metadata": {},
   "outputs": [
    {
     "name": "stdout",
     "output_type": "stream",
     "text": [
      "False\n",
      "True\n",
      "False\n",
      "True\n",
      "True\n"
     ]
    }
   ],
   "source": [
    "#logical operation\n",
    "a=True\n",
    "b=False\n",
    "#and\n",
    "print(a and b)\n",
    "#or\n",
    "print(a or b)\n",
    "#not\n",
    "print(not a)\n",
    "print(not b)\n",
    "#ex-or\n",
    "print(a!=b)"
   ]
  },
  {
   "cell_type": "code",
   "execution_count": 19,
   "id": "d7be31da-fe7a-4e11-a57f-b0d14f38bb90",
   "metadata": {},
   "outputs": [
    {
     "name": "stdout",
     "output_type": "stream",
     "text": [
      "odd\n"
     ]
    }
   ],
   "source": [
    "#conditional operation\n",
    "if(a%2==0):\n",
    "    print(\"even\")\n",
    "else:\n",
    "    print(\"odd\")"
   ]
  },
  {
   "cell_type": "code",
   "execution_count": 20,
   "id": "1e7ce638-3790-49c9-8ca7-16a8560ab8ed",
   "metadata": {},
   "outputs": [
    {
     "name": "stdout",
     "output_type": "stream",
     "text": [
      "30\n"
     ]
    }
   ],
   "source": [
    "a=10\n",
    "b=12\n",
    "c=30\n",
    "if a>b and a<c:\n",
    "    print(a)\n",
    "elif b>a and b>c:\n",
    "    print(b)\n",
    "elif c>a and c>b:\n",
    "    print(c)"
   ]
  },
  {
   "cell_type": "code",
   "execution_count": 22,
   "id": "e1daa166-be96-48b5-8fcd-d04000612010",
   "metadata": {},
   "outputs": [
    {
     "name": "stdout",
     "output_type": "stream",
     "text": [
      "5 6 7 8 9 10 11 12 13 14 15 16 17 18 19 20 21 22 23 24 25 26 27 28 29 30 31 32 33 34 "
     ]
    }
   ],
   "source": [
    "#looping statement\n",
    "#for loop\n",
    "for i in range(0,30):\n",
    "    i=i+5\n",
    "    print(i,end=\" \")"
   ]
  },
  {
   "cell_type": "code",
   "execution_count": 24,
   "id": "f292f801-4b68-4eb9-b49e-91d5ec338c75",
   "metadata": {},
   "outputs": [
    {
     "name": "stdout",
     "output_type": "stream",
     "text": [
      "0 1 4 9 16 25 36 49 64 81 "
     ]
    }
   ],
   "source": [
    "for i in range(0,10):\n",
    "    i=i**2\n",
    "    print(i,end=\" \")"
   ]
  },
  {
   "cell_type": "code",
   "execution_count": 27,
   "id": "3b2a84b8-8ef5-432d-82c4-f32b47ec9a87",
   "metadata": {},
   "outputs": [
    {
     "name": "stdout",
     "output_type": "stream",
     "text": [
      "0 2 4 6 8 10 12 14 16 18 "
     ]
    }
   ],
   "source": [
    "for i in range(0,10):\n",
    "    i=i*2\n",
    "    print(i,end=\" \")"
   ]
  },
  {
   "cell_type": "code",
   "execution_count": 1,
   "id": "7880d018-161f-4db7-bd21-b3c0241ecb9f",
   "metadata": {},
   "outputs": [
    {
     "name": "stdout",
     "output_type": "stream",
     "text": [
      "1 3 5 7 9 11 13 15 17 19 21 23 25 27 29 31 33 35 37 39 41 43 45 47 49 51 53 55 57 59 61 63 65 67 69 71 73 75 77 79 81 83 85 87 89 91 93 95 97 "
     ]
    }
   ],
   "source": [
    "for i in range(0,99):\n",
    "    if i%2!=0:\n",
    "        print(i,end=\" \")"
   ]
  },
  {
   "cell_type": "code",
   "execution_count": null,
   "id": "c112f0b7-aa2f-48b3-9b58-30f7d47f484a",
   "metadata": {},
   "outputs": [],
   "source": [
    "#home work\n",
    "#1:\n",
    "for i in range (0,50):\n",
    "    i=i*2\n",
    "    print(i,end=\" \")"
   ]
  },
  {
   "cell_type": "code",
   "execution_count": 1,
   "id": "90e0a688-4cbe-43b4-961a-97efec40c476",
   "metadata": {},
   "outputs": [
    {
     "name": "stdin",
     "output_type": "stream",
     "text": [
      " enter the money: 3000\n"
     ]
    },
    {
     "name": "stdout",
     "output_type": "stream",
     "text": [
      "avaliable balance=7000\n"
     ]
    },
    {
     "name": "stdin",
     "output_type": "stream",
     "text": [
      " enter the money: 8000\n"
     ]
    },
    {
     "name": "stdout",
     "output_type": "stream",
     "text": [
      "avaliable balance=-1000\n",
      "insufficent funds\n"
     ]
    }
   ],
   "source": [
    "bal=10000\n",
    "while(bal>=10):\n",
    "    wd=int(input(\" enter the money:\"))\n",
    "    bal=bal-wd\n",
    "    print(f\"avaliable balance={bal}\")\n",
    "    if bal<0:\n",
    "        print(\"insufficent funds\")"
   ]
  },
  {
   "cell_type": "code",
   "execution_count": 2,
   "id": "dd121e38-7ae0-422d-902d-f8d5cee80e4f",
   "metadata": {},
   "outputs": [
    {
     "name": "stdout",
     "output_type": "stream",
     "text": [
      "0 2 4 6 8 10 12 14 16 18 20 22 24 26 28 30 32 34 36 38 40 42 44 46 48 50 52 54 56 58 60 62 64 66 68 70 72 74 76 78 80 82 84 86 88 90 92 94 96 98 "
     ]
    }
   ],
   "source": [
    "#home work\n",
    "for i in range(0,50):\n",
    "    i=i*2\n",
    "    print(i,end=\" \")"
   ]
  },
  {
   "cell_type": "code",
   "execution_count": 3,
   "id": "bd2c1ca7-e61a-4da1-ac45-d1f8177472f0",
   "metadata": {},
   "outputs": [
    {
     "name": "stdout",
     "output_type": "stream",
     "text": [
      "1 3 5 7 9 11 13 15 17 19 21 23 25 27 29 31 33 35 37 39 41 43 45 47 49 51 53 55 57 59 61 63 65 67 69 71 73 75 77 79 81 83 85 87 89 91 93 95 97 "
     ]
    }
   ],
   "source": [
    "for i in range (1,99):\n",
    "    if i%2!=0:\n",
    "        print(i,end=\" \")"
   ]
  },
  {
   "cell_type": "code",
   "execution_count": 7,
   "id": "f8cd8216-0e39-42da-8d93-d8690ee6f28a",
   "metadata": {},
   "outputs": [
    {
     "name": "stdin",
     "output_type": "stream",
     "text": [
      "enter the number 21\n"
     ]
    },
    {
     "name": "stdout",
     "output_type": "stream",
     "text": [
      "divisble by 7\n"
     ]
    }
   ],
   "source": [
    "a=int(input(\"enter the number\"))\n",
    "if a%7==0:\n",
    "    print(\"divisble by 7\")\n",
    "else:\n",
    "    print(\"not divisibleby 7\")"
   ]
  },
  {
   "cell_type": "code",
   "execution_count": null,
   "id": "7fadf88d-7b71-4ac2-a7b4-4742aba7912c",
   "metadata": {},
   "outputs": [
    {
     "name": "stdout",
     "output_type": "stream",
     "text": [
      "\n",
      "Welcome to the Bank Loan Application\n",
      "1. Withdraw\n",
      "2. Deposit\n",
      "3. Check Balance\n",
      "4. Exit\n"
     ]
    },
    {
     "name": "stdin",
     "output_type": "stream",
     "text": [
      "Enter your choice (1-4):  1\n",
      "Enter amount to withdraw:  200\n"
     ]
    },
    {
     "name": "stdout",
     "output_type": "stream",
     "text": [
      "Withdrawal successful. New balance: 9800.0\n",
      "\n",
      "Welcome to the Bank Loan Application\n",
      "1. Withdraw\n",
      "2. Deposit\n",
      "3. Check Balance\n",
      "4. Exit\n"
     ]
    },
    {
     "name": "stdin",
     "output_type": "stream",
     "text": [
      "Enter your choice (1-4):  5\n"
     ]
    },
    {
     "name": "stdout",
     "output_type": "stream",
     "text": [
      "Invalid choice. Please enter 1, 2, 3, or 4.\n",
      "\n",
      "Welcome to the Bank Loan Application\n",
      "1. Withdraw\n",
      "2. Deposit\n",
      "3. Check Balance\n",
      "4. Exit\n"
     ]
    }
   ],
   "source": [
    "# Initial balance\n",
    "balance = 10000  \n",
    "while True:\n",
    "    print(\"\\nWelcome to the Bank Loan Application\")\n",
    "    print(\"1. Withdraw\")\n",
    "    print(\"2. Deposit\")\n",
    "    print(\"3. Check Balance\")\n",
    "    print(\"4. Exit\")\n",
    "    choice = int(input(\"Enter your choice (1-4): \"))\n",
    "    if choice == 1:\n",
    "        amount = float(input(\"Enter amount to withdraw: \"))\n",
    "        if amount > balance:\n",
    "            print(\"Insufficient balance!\")\n",
    "        else:\n",
    "            balance -= amount\n",
    "            print(f\"Withdrawal successful. New balance: {balance}\")\n",
    "    elif choice == 2:\n",
    "        amount = float(input(\"Enter amount to deposit: \"))\n",
    "        balance += amount\n",
    "        print(f\"Deposit successful. New balance: {balance}\")\n",
    "    elif choice == 3:\n",
    "        print(f\"Your current balance is: {balance}\")\n",
    "    elif choice == 4:\n",
    "        print(\"Thank you for using the application. Goodbye!\")\n",
    "        break\n",
    "    else:\n",
    "        print(\"Invalid choice. Please enter 1, 2, 3, or 4.\")"
   ]
  },
  {
   "cell_type": "code",
   "execution_count": null,
   "id": "8190ec43-8ab6-4579-8555-fc294a16e080",
   "metadata": {},
   "outputs": [],
   "source": []
  }
 ],
 "metadata": {
  "kernelspec": {
   "display_name": "Python 3 (ipykernel)",
   "language": "python",
   "name": "python3"
  },
  "language_info": {
   "codemirror_mode": {
    "name": "ipython",
    "version": 3
   },
   "file_extension": ".py",
   "mimetype": "text/x-python",
   "name": "python",
   "nbconvert_exporter": "python",
   "pygments_lexer": "ipython3",
   "version": "3.12.7"
  }
 },
 "nbformat": 4,
 "nbformat_minor": 5
}
