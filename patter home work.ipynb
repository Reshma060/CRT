{
 "cells": [
  {
   "cell_type": "code",
   "execution_count": 16,
   "id": "ab5f2e62-9e7c-4c39-9a3b-9e8348c14049",
   "metadata": {},
   "outputs": [
    {
     "name": "stdout",
     "output_type": "stream",
     "text": [
      "x x x x \n",
      "  x x x \n",
      "    x x \n",
      "      x \n"
     ]
    }
   ],
   "source": [
    "# 27\\05\\25\n",
    "# patter home work\n",
    "for i in range(1, 5):  # rows\n",
    "    # print leading spaces\n",
    "    for space in range(i - 1):\n",
    "        print(\" \", end=\" \")\n",
    "    # print x's decreasing in each row\n",
    "    for j in range(5 - i):\n",
    "        print(\"x\", end=\" \")\n",
    "    print()\n"
   ]
  },
  {
   "cell_type": "code",
   "execution_count": null,
   "id": "c6ae6b1f-3de6-4ac5-83e1-bdb7fec8ec10",
   "metadata": {},
   "outputs": [],
   "source": []
  }
 ],
 "metadata": {
  "kernelspec": {
   "display_name": "Python 3 (ipykernel)",
   "language": "python",
   "name": "python3"
  },
  "language_info": {
   "codemirror_mode": {
    "name": "ipython",
    "version": 3
   },
   "file_extension": ".py",
   "mimetype": "text/x-python",
   "name": "python",
   "nbconvert_exporter": "python",
   "pygments_lexer": "ipython3",
   "version": "3.12.7"
  }
 },
 "nbformat": 4,
 "nbformat_minor": 5
}
